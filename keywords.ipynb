{
 "cells": [
  {
   "cell_type": "code",
   "execution_count": 2,
   "metadata": {},
   "outputs": [],
   "source": [
    "import pandas as pd\n",
    "import nltk\n",
    "from collections import Counter\n",
    "from nltk.corpus import stopwords\n",
    "from nltk.tokenize import word_tokenize\n",
    "import matplotlib.pyplot as plt\n"
   ]
  },
  {
   "cell_type": "markdown",
   "metadata": {},
   "source": [
    "### Importing the Data"
   ]
  },
  {
   "cell_type": "code",
   "execution_count": 3,
   "metadata": {},
   "outputs": [],
   "source": [
    "#read the data\n",
    "austin_df = pd.read_csv('Data/reviews_austin.csv')\n",
    "chicago_df = pd.read_csv('Data/reviews_chicago.csv')\n",
    "columbus_df = pd.read_csv('Data/reviews_columbus.csv')\n",
    "dallas_df = pd.read_csv('Data/reviews_dallas.csv')\n",
    "denver_df = pd.read_csv('Data/reviews_denver.csv')\n",
    "la_df = pd.read_csv('Data/reviews_la.csv')\n",
    "ny_df = pd.read_csv('Data/reviews_ny.csv')\n",
    "sandiego_df = pd.read_csv('Data/reviews_sandiego.csv')\n",
    "sanfran_df = pd.read_csv('Data/reviews_sanfrancisco.csv')\n",
    "seattle_df = pd.read_csv('Data/reviews_seattle.csv')"
   ]
  },
  {
   "cell_type": "code",
   "execution_count": 4,
   "metadata": {},
   "outputs": [],
   "source": [
    "#make one big dataframe\n",
    "all_reviews = pd.concat([austin_df, chicago_df, columbus_df, dallas_df, denver_df, la_df, ny_df, sandiego_df, sanfran_df, seattle_df])"
   ]
  },
  {
   "cell_type": "code",
   "execution_count": 5,
   "metadata": {},
   "outputs": [],
   "source": [
    "#drop columns that are not needed\n",
    "all_reviews = all_reviews.drop(columns=['id', 'date', 'reviewer_id', 'reviewer_name'])"
   ]
  },
  {
   "cell_type": "code",
   "execution_count": 6,
   "metadata": {},
   "outputs": [],
   "source": [
    "#drop listing id\n",
    "all_reviews = all_reviews.drop(columns=['listing_id'])"
   ]
  },
  {
   "cell_type": "code",
   "execution_count": 7,
   "metadata": {},
   "outputs": [
    {
     "data": {
      "text/html": [
       "<div>\n",
       "<style scoped>\n",
       "    .dataframe tbody tr th:only-of-type {\n",
       "        vertical-align: middle;\n",
       "    }\n",
       "\n",
       "    .dataframe tbody tr th {\n",
       "        vertical-align: top;\n",
       "    }\n",
       "\n",
       "    .dataframe thead th {\n",
       "        text-align: right;\n",
       "    }\n",
       "</style>\n",
       "<table border=\"1\" class=\"dataframe\">\n",
       "  <thead>\n",
       "    <tr style=\"text-align: right;\">\n",
       "      <th></th>\n",
       "      <th>comments</th>\n",
       "    </tr>\n",
       "  </thead>\n",
       "  <tbody>\n",
       "    <tr>\n",
       "      <th>0</th>\n",
       "      <td>Sylvia is a hostess who is gracious and helpfu...</td>\n",
       "    </tr>\n",
       "    <tr>\n",
       "      <th>1</th>\n",
       "      <td>Highly recommended. Sylvia was extremely helpf...</td>\n",
       "    </tr>\n",
       "    <tr>\n",
       "      <th>2</th>\n",
       "      <td>A great place to stay in a great city. Sylvia ...</td>\n",
       "    </tr>\n",
       "    <tr>\n",
       "      <th>3</th>\n",
       "      <td>Highly recommended! \\r&lt;br/&gt;Cute and cozy guest...</td>\n",
       "    </tr>\n",
       "    <tr>\n",
       "      <th>4</th>\n",
       "      <td>What a great little apartment!  It was clean, ...</td>\n",
       "    </tr>\n",
       "    <tr>\n",
       "      <th>...</th>\n",
       "      <td>...</td>\n",
       "    </tr>\n",
       "    <tr>\n",
       "      <th>481345</th>\n",
       "      <td>Great location, walkable to lots of local spots.</td>\n",
       "    </tr>\n",
       "    <tr>\n",
       "      <th>481346</th>\n",
       "      <td>Amazing experience with the host and the place...</td>\n",
       "    </tr>\n",
       "    <tr>\n",
       "      <th>481347</th>\n",
       "      <td>This place was a stunner! Seung was really hel...</td>\n",
       "    </tr>\n",
       "    <tr>\n",
       "      <th>481348</th>\n",
       "      <td>The place was extremely well kept and clean. B...</td>\n",
       "    </tr>\n",
       "    <tr>\n",
       "      <th>481349</th>\n",
       "      <td>the airbnb was spotless, excellent place to stay.</td>\n",
       "    </tr>\n",
       "  </tbody>\n",
       "</table>\n",
       "<p>5898329 rows × 1 columns</p>\n",
       "</div>"
      ],
      "text/plain": [
       "                                                 comments\n",
       "0       Sylvia is a hostess who is gracious and helpfu...\n",
       "1       Highly recommended. Sylvia was extremely helpf...\n",
       "2       A great place to stay in a great city. Sylvia ...\n",
       "3       Highly recommended! \\r<br/>Cute and cozy guest...\n",
       "4       What a great little apartment!  It was clean, ...\n",
       "...                                                   ...\n",
       "481345   Great location, walkable to lots of local spots.\n",
       "481346  Amazing experience with the host and the place...\n",
       "481347  This place was a stunner! Seung was really hel...\n",
       "481348  The place was extremely well kept and clean. B...\n",
       "481349  the airbnb was spotless, excellent place to stay.\n",
       "\n",
       "[5898329 rows x 1 columns]"
      ]
     },
     "execution_count": 7,
     "metadata": {},
     "output_type": "execute_result"
    }
   ],
   "source": [
    "all_reviews"
   ]
  },
  {
   "cell_type": "code",
   "execution_count": 8,
   "metadata": {},
   "outputs": [
    {
     "data": {
      "text/plain": [
       "comments    1428\n",
       "dtype: int64"
      ]
     },
     "execution_count": 8,
     "metadata": {},
     "output_type": "execute_result"
    }
   ],
   "source": [
    "all_reviews.isnull().sum()"
   ]
  },
  {
   "cell_type": "code",
   "execution_count": 9,
   "metadata": {},
   "outputs": [],
   "source": [
    "#drop the rows with missing values\n",
    "all_reviews = all_reviews.dropna()"
   ]
  },
  {
   "cell_type": "code",
   "execution_count": 23,
   "metadata": {},
   "outputs": [
    {
     "data": {
      "text/plain": [
       "comments    0\n",
       "dtype: int64"
      ]
     },
     "execution_count": 23,
     "metadata": {},
     "output_type": "execute_result"
    }
   ],
   "source": [
    "all_reviews.isnull().sum()"
   ]
  },
  {
   "cell_type": "code",
   "execution_count": 10,
   "metadata": {},
   "outputs": [
    {
     "name": "stdout",
     "output_type": "stream",
     "text": [
      "<class 'pandas.core.frame.DataFrame'>\n",
      "Index: 5896901 entries, 0 to 481349\n",
      "Data columns (total 1 columns):\n",
      " #   Column    Dtype \n",
      "---  ------    ----- \n",
      " 0   comments  object\n",
      "dtypes: object(1)\n",
      "memory usage: 90.0+ MB\n"
     ]
    }
   ],
   "source": [
    "all_reviews.info()"
   ]
  },
  {
   "cell_type": "markdown",
   "metadata": {},
   "source": [
    "### Creating a Sample"
   ]
  },
  {
   "cell_type": "code",
   "execution_count": 11,
   "metadata": {},
   "outputs": [],
   "source": [
    "#make a sample of the data\n",
    "all_reviews_sample = all_reviews.sample(frac=0.1)"
   ]
  },
  {
   "cell_type": "code",
   "execution_count": 12,
   "metadata": {},
   "outputs": [
    {
     "data": {
      "text/html": [
       "<div>\n",
       "<style scoped>\n",
       "    .dataframe tbody tr th:only-of-type {\n",
       "        vertical-align: middle;\n",
       "    }\n",
       "\n",
       "    .dataframe tbody tr th {\n",
       "        vertical-align: top;\n",
       "    }\n",
       "\n",
       "    .dataframe thead th {\n",
       "        text-align: right;\n",
       "    }\n",
       "</style>\n",
       "<table border=\"1\" class=\"dataframe\">\n",
       "  <thead>\n",
       "    <tr style=\"text-align: right;\">\n",
       "      <th></th>\n",
       "      <th>comments</th>\n",
       "    </tr>\n",
       "  </thead>\n",
       "  <tbody>\n",
       "    <tr>\n",
       "      <th>152187</th>\n",
       "      <td>My four friends and I stayed here and it was a...</td>\n",
       "    </tr>\n",
       "    <tr>\n",
       "      <th>263180</th>\n",
       "      <td>Nick hosted me and my sister for 3 nights in L...</td>\n",
       "    </tr>\n",
       "    <tr>\n",
       "      <th>472815</th>\n",
       "      <td>Maritza’s home is very comfortable and clean- ...</td>\n",
       "    </tr>\n",
       "    <tr>\n",
       "      <th>793787</th>\n",
       "      <td>The description is spot on.  Very cozy place f...</td>\n",
       "    </tr>\n",
       "    <tr>\n",
       "      <th>42531</th>\n",
       "      <td>Anne's place is in the beautiful area, Travis ...</td>\n",
       "    </tr>\n",
       "    <tr>\n",
       "      <th>...</th>\n",
       "      <td>...</td>\n",
       "    </tr>\n",
       "    <tr>\n",
       "      <th>247820</th>\n",
       "      <td>Ronny was a fantastic host and the house was g...</td>\n",
       "    </tr>\n",
       "    <tr>\n",
       "      <th>345095</th>\n",
       "      <td>Last minute NYC travel, felt so good to be bac...</td>\n",
       "    </tr>\n",
       "    <tr>\n",
       "      <th>148983</th>\n",
       "      <td>La estancia en la casa de Marc ha sido como es...</td>\n",
       "    </tr>\n",
       "    <tr>\n",
       "      <th>36343</th>\n",
       "      <td>Leo was a perfect host... the place was as adv...</td>\n",
       "    </tr>\n",
       "    <tr>\n",
       "      <th>665699</th>\n",
       "      <td>Very cute home in a perfect area, close to all...</td>\n",
       "    </tr>\n",
       "  </tbody>\n",
       "</table>\n",
       "<p>589690 rows × 1 columns</p>\n",
       "</div>"
      ],
      "text/plain": [
       "                                                 comments\n",
       "152187  My four friends and I stayed here and it was a...\n",
       "263180  Nick hosted me and my sister for 3 nights in L...\n",
       "472815  Maritza’s home is very comfortable and clean- ...\n",
       "793787  The description is spot on.  Very cozy place f...\n",
       "42531   Anne's place is in the beautiful area, Travis ...\n",
       "...                                                   ...\n",
       "247820  Ronny was a fantastic host and the house was g...\n",
       "345095  Last minute NYC travel, felt so good to be bac...\n",
       "148983  La estancia en la casa de Marc ha sido como es...\n",
       "36343   Leo was a perfect host... the place was as adv...\n",
       "665699  Very cute home in a perfect area, close to all...\n",
       "\n",
       "[589690 rows x 1 columns]"
      ]
     },
     "execution_count": 12,
     "metadata": {},
     "output_type": "execute_result"
    }
   ],
   "source": [
    "all_reviews_sample"
   ]
  },
  {
   "cell_type": "code",
   "execution_count": 13,
   "metadata": {},
   "outputs": [],
   "source": [
    "reviews = all_reviews_sample['comments']  "
   ]
  },
  {
   "cell_type": "markdown",
   "metadata": {},
   "source": [
    "### Tokanize and Extract Keywords"
   ]
  },
  {
   "cell_type": "code",
   "execution_count": 14,
   "metadata": {},
   "outputs": [
    {
     "name": "stderr",
     "output_type": "stream",
     "text": [
      "[nltk_data] Downloading package punkt to\n",
      "[nltk_data]     /Users/lasmaoficierecakste/nltk_data...\n",
      "[nltk_data]   Package punkt is already up-to-date!\n",
      "[nltk_data] Downloading package stopwords to\n",
      "[nltk_data]     /Users/lasmaoficierecakste/nltk_data...\n",
      "[nltk_data]   Package stopwords is already up-to-date!\n"
     ]
    }
   ],
   "source": [
    "nltk.download('punkt')\n",
    "nltk.download('stopwords')\n",
    "\n",
    "# Convert to lowercase\n",
    "reviews = reviews.str.lower()\n",
    "\n",
    "# Tokenize the reviews\n",
    "reviews = reviews.apply(word_tokenize)\n",
    "\n",
    "# Remove stopwords\n",
    "stop_words = set(stopwords.words('english'))\n",
    "reviews = reviews.apply(lambda x: [word for word in x if word.isalpha() and word not in stop_words])\n"
   ]
  },
  {
   "cell_type": "code",
   "execution_count": 15,
   "metadata": {},
   "outputs": [],
   "source": [
    "# Flatten the list of words\n",
    "all_words = [word for review in reviews for word in review]\n",
    "\n",
    "# Use Counter to count word frequencies\n",
    "word_freq = Counter(all_words)\n",
    "\n",
    "# Convert to a DataFrame for easier analysis\n",
    "freq_df = pd.DataFrame(word_freq.items(), columns=['word', 'frequency']).sort_values(by='frequency', ascending=False)\n"
   ]
  },
  {
   "cell_type": "code",
   "execution_count": 19,
   "metadata": {},
   "outputs": [],
   "source": [
    "freq_df.to_csv('Data/word_freq.csv', index=False)"
   ]
  },
  {
   "cell_type": "code",
   "execution_count": 17,
   "metadata": {},
   "outputs": [
    {
     "data": {
      "image/png": "[encoded data removed]",
      "text/plain": [
       "<Figure size 1000x800 with 1 Axes>"
      ]
     },
     "metadata": {},
     "output_type": "display_data"
    }
   ],
   "source": [
    "# Plot the top 30 most frequent words\n",
    "top_n = 30\n",
    "top_words = freq_df.head(top_n)\n",
    "\n",
    "plt.figure(figsize=(10, 8))\n",
    "plt.barh(top_words['word'], top_words['frequency'], color='skyblue')\n",
    "plt.xlabel('Frequency')\n",
    "plt.ylabel('Words')\n",
    "plt.title(f'Top {top_n} Most Frequent Words in Airbnb Reviews')\n",
    "plt.gca().invert_yaxis()  # Highest frequency at the top\n",
    "plt.show()\n"
   ]
  }
 ],
 "metadata": {
  "kernelspec": {
   "display_name": "base",
   "language": "python",
   "name": "python3"
  },
  "language_info": {
   "codemirror_mode": {
    "name": "ipython",
    "version": 3
   },
   "file_extension": ".py",
   "mimetype": "text/x-python",
   "name": "python",
   "nbconvert_exporter": "python",
   "pygments_lexer": "ipython3",
   "version": "3.11.7"
  }
 },
 "nbformat": 4,
 "nbformat_minor": 2
}
